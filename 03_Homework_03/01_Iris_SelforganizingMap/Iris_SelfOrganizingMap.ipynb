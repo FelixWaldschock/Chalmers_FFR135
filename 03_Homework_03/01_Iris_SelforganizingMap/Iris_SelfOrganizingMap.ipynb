{
 "cells": [
  {
   "cell_type": "code",
   "execution_count": 3,
   "id": "230c7570",
   "metadata": {},
   "outputs": [],
   "source": [
    "import numpy as np\n",
    "import matplotlib.pyplot as plt"
   ]
  },
  {
   "cell_type": "markdown",
   "metadata": {},
   "source": [
    "Import the Iris data"
   ]
  },
  {
   "cell_type": "code",
   "execution_count": 4,
   "metadata": {},
   "outputs": [],
   "source": [
    "# Load the Iris dataset\n",
    "input_Data = np.loadtxt('iris-data.csv', delimiter=',')\n",
    "input_Labels = np.loadtxt('iris-labels.csv', delimiter=',')\n",
    "\n",
    "# normalize the data with the max value\n",
    "vmax = np.max(input_Data)\n",
    "inputData = input_Data / vmax\n",
    "\n"
   ]
  },
  {
   "cell_type": "markdown",
   "metadata": {},
   "source": [
    "Set the network parameters"
   ]
  },
  {
   "cell_type": "code",
   "execution_count": 5,
   "metadata": {},
   "outputs": [],
   "source": [
    "d_sigma = 0.05\n",
    "sigma_0 = 10\n",
    "d_eta = 0.01\n",
    "eta_0 = 0.1\n",
    "output_Size = [40,40]\n",
    "input_Size = input_Data.shape[1]\n",
    "number_of_Epochs = 10\n",
    "batch_Size = 10"
   ]
  },
  {
   "cell_type": "markdown",
   "metadata": {},
   "source": [
    "init the weights with normal distribution"
   ]
  },
  {
   "cell_type": "code",
   "execution_count": null,
   "metadata": {},
   "outputs": [],
   "source": [
    "weigths = np.random.uniform(0,1,(output_Size[0],output_Size[1],input_Size))"
   ]
  },
  {
   "cell_type": "markdown",
   "metadata": {},
   "source": [
    "define the function for neighbourhood $h(i,i_0)$"
   ]
  },
  {
   "cell_type": "code",
   "execution_count": 6,
   "metadata": {},
   "outputs": [],
   "source": [
    "def neighborhoodFunction(ri, r0, sigma):\n",
    "    term1 = 1 / (2 *sigma**2)\n",
    "    term2 = np.norm(ri - r0)**2\n",
    "    return np.exp(term1 * term2)\n"
   ]
  },
  {
   "cell_type": "markdown",
   "metadata": {},
   "source": [
    "define the learning rule $\\Delta w_i = \\eta h(i,i_0) (x-w_i)$"
   ]
  },
  {
   "cell_type": "code",
   "execution_count": null,
   "metadata": {},
   "outputs": [],
   "source": [
    "def deltaWeights(eta, h, x, w):\n",
    "    return eta * h * (x - w)"
   ]
  },
  {
   "cell_type": "markdown",
   "metadata": {},
   "source": [
    "find winning neuron $i_0$, the on ewith weight vector closest to input $\\bold{x}$"
   ]
  },
  {
   "cell_type": "code",
   "execution_count": null,
   "metadata": {},
   "outputs": [],
   "source": [
    "def winningNeuron(data, weights):\n",
    "    # clac the distance \n",
    "    distange = np.linalg.norm(data - weights, axis=2)\n",
    "    # get the index of the min value\n",
    "    index = np.argmin(distange)\n",
    "    # convert the index to 2D\n",
    "    return np.unravel_index(index, distange.shape)"
   ]
  },
  {
   "cell_type": "markdown",
   "metadata": {},
   "source": []
  }
 ],
 "metadata": {
  "kernelspec": {
   "display_name": "Python 3 (ipykernel)",
   "language": "python",
   "name": "python3"
  },
  "language_info": {
   "codemirror_mode": {
    "name": "ipython",
    "version": 3
   },
   "file_extension": ".py",
   "mimetype": "text/x-python",
   "name": "python",
   "nbconvert_exporter": "python",
   "pygments_lexer": "ipython3",
   "version": "3.10.12"
  }
 },
 "nbformat": 4,
 "nbformat_minor": 5
}
