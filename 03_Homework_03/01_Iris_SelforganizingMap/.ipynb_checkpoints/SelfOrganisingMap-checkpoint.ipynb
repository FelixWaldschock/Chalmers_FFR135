{
 "cells": [
  {
   "cell_type": "code",
   "execution_count": 1,
   "metadata": {},
   "outputs": [],
   "source": [
    "# FFR135 HW3\n",
    "## Self organising map "
   ]
  },
  {
   "cell_type": "code",
   "execution_count": 2,
   "metadata": {},
   "outputs": [],
   "source": [
    "import numpy as np\n",
    "import matplotlib.pyplot as plt\n",
    "import scienceplots\n",
    "plt.style.use(['science','ieee'])"
   ]
  },
  {
   "cell_type": "code",
   "execution_count": 3,
   "metadata": {},
   "outputs": [],
   "source": [
    "# load data\n",
    "inputData = np.loadtxt('/Users/felixwaldschock/Library/CloudStorage/OneDrive-Chalmers/02_Courses/02_FFR135_Artificial_Neural_Networks/02_Assigments/03_Homework_03/01_Iris_SelforganizingMap/iris-data.csv', delimiter=',')\n",
    "labesData = np.loadtxt('/Users/felixwaldschock/Library/CloudStorage/OneDrive-Chalmers/02_Courses/02_FFR135_Artificial_Neural_Networks/02_Assigments/03_Homework_03/01_Iris_SelforganizingMap/iris-labels.csv', delimiter=',')\n"
   ]
  },
  {
   "cell_type": "code",
   "execution_count": 4,
   "metadata": {},
   "outputs": [],
   "source": [
    "# normalize data\n",
    "inputData = inputData / np.linalg.norm(inputData, axis=1)[:,None]\n",
    "\n",
    "# define parameters\n",
    "input_size = inputData.shape[1]\n",
    "output_size = 40\n",
    "epochs = 30\n",
    "batch_size = len(inputData)\n",
    "eta_0 = 0.1\n",
    "d_eta = 0.01\n",
    "sigma_0 = 10\n",
    "d_sigma = 0.05\n",
    "\n"
   ]
  },
  {
   "cell_type": "code",
   "execution_count": 5,
   "metadata": {},
   "outputs": [],
   "source": [
    "# init the weights with random gaussian\n",
    "weights = np.random.uniform(0, 1, (output_size, output_size, input_size))\n",
    "\n",
    "def neighbourhood_function(r_i, r_i0, sigma): # openTA\n",
    "    return np.exp(-0.5 * (np.linalg.norm(r_i - r_i0)**2) / sigma**2)\n",
    "\n",
    "def get_winning_neuron(data, weights):\n",
    "    distances = np.linalg.norm(weights - data, axis=2)\n",
    "    return np.unravel_index(np.argmin(distances), distances.shape)\n"
   ]
  },
  {
   "cell_type": "code",
   "execution_count": null,
   "metadata": {},
   "outputs": [],
   "source": [
    "fig, ax = plt.subplots(1, 2, figsize=(10, 5))\n",
    "# plot the initial state\n",
    "bestInitNeuron = np.zeros((len(inputData), 2))\n",
    "for i in range(len(inputData)):\n",
    "    bestInitNeuron[i] = get_winning_neuron(inputData[i], weights)\n",
    "\n",
    "ax[0].scatter(bestInitNeuron[:, 0], bestInitNeuron[:, 1], c=labesData, cmap='viridis')\n",
    "ax[0].set_title('Initital state')\n",
    "ax[0].set_xlabel('x')\n",
    "ax[0].set_ylabel('y')\n",
    "\n",
    "# train the network\n",
    "for e in range(epochs):\n",
    "    eta = eta_0 * np.exp(-e * d_eta)\n",
    "    sigma = sigma_0 * np.exp(-e * d_sigma)\n",
    "\n",
    "    for i in range(len(inputData)):\n",
    "        # get the winning neuron\n",
    "        winning_neuron = get_winning_neuron(inputData[i], weights)\n",
    "        # update the weights\n",
    "        for j in range(output_size):\n",
    "            for k in range(output_size):\n",
    "                h = neighbourhood_function(np.array([j, k]), np.array(winning_neuron), sigma)\n",
    "                weights[j, k, :] += eta * h * (inputData[i] - weights[j, k, :])\n",
    "\n",
    "bestFinalNeuron = np.zeros((len(inputData), 2))\n",
    "for i in range(len(inputData)):\n",
    "    bestFinalNeuron[i] = get_winning_neuron(inputData[i], weights)\n",
    "\n",
    "# plot\n",
    "ax[1].scatter(bestFinalNeuron[:, 0], bestFinalNeuron[:, 1], c=labesData, cmap='viridis')\n",
    "ax[1].set_title('Final state')\n",
    "ax[1].set_xlabel('x')\n",
    "ax[1].set_ylabel('y')\n",
    "\n",
    "plt.show()"
   ]
  },
  {
   "cell_type": "code",
   "execution_count": null,
   "metadata": {},
   "outputs": [],
   "source": []
  }
 ],
 "metadata": {
  "kernelspec": {
   "display_name": "Python 3 (ipykernel)",
   "language": "python",
   "name": "python3"
  },
  "language_info": {
   "codemirror_mode": {
    "name": "ipython",
    "version": 3
   },
   "file_extension": ".py",
   "mimetype": "text/x-python",
   "name": "python",
   "nbconvert_exporter": "python",
   "pygments_lexer": "ipython3",
   "version": "3.10.12"
  }
 },
 "nbformat": 4,
 "nbformat_minor": 2
}
