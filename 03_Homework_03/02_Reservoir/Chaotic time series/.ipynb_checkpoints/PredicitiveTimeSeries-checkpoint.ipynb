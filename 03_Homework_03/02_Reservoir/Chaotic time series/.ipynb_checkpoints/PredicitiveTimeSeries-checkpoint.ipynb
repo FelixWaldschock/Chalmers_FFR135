{
 "cells": [
  {
   "cell_type": "markdown",
   "metadata": {},
   "source": [
    "# FFR 135 HW 3 \n",
    "## Chaotic time-series prediction 2023"
   ]
  },
  {
   "cell_type": "code",
   "execution_count": 30,
   "metadata": {},
   "outputs": [],
   "source": [
    "import numpy as np\n",
    "import matplotlib.pyplot as plt"
   ]
  },
  {
   "cell_type": "code",
   "execution_count": 31,
   "metadata": {},
   "outputs": [],
   "source": [
    "# parameters of the code\n",
    "k = 0.01\n",
    "inputNeurons = 3\n",
    "reservoirNeurons = 500\n",
    "tMax = 500"
   ]
  },
  {
   "cell_type": "code",
   "execution_count": 32,
   "metadata": {},
   "outputs": [
    {
     "name": "stdout",
     "output_type": "stream",
     "text": [
      "trainingSet.shape:  (3, 19900)\n",
      "testSet.shape:  (3, 100)\n",
      "inputWeights.shape:  (500, 3)\n",
      "reservoirWeights.shape:  (500, 500)\n",
      "X.shape:  (19900, 500)\n"
     ]
    }
   ],
   "source": [
    "# load the training and test set\n",
    "trainingSet = np.genfromtxt(\"training_set.csv\", delimiter=\",\")\n",
    "testSet = np.genfromtxt(\"test_set.csv\", delimiter=\",\")\n",
    "\n",
    "# print the shapes of the training and test set\n",
    "print(\"trainingSet.shape: \", trainingSet.shape)\n",
    "print(\"testSet.shape: \", testSet.shape)\n",
    "\n",
    "# init the weights\n",
    "inputWeights = np.random.normal(loc=0.0, scale= np.sqrt(0.002), size=(reservoirNeurons, inputNeurons)) # shape=(500,3)\n",
    "reservoirWeights = np.random.normal(loc=0.0, scale= np.sqrt(2/reservoirNeurons), size=(reservoirNeurons, reservoirNeurons)) # shape=(500,500)\n",
    "\n",
    "# print the shapes \n",
    "print(\"inputWeights.shape: \", inputWeights.shape)\n",
    "print(\"reservoirWeights.shape: \", reservoirWeights.shape)\n",
    "\n",
    "# init the reservoir\n",
    "X = np.zeros((trainingSet.shape[1], reservoirNeurons))\n",
    "print(\"X.shape: \", X.shape)\n",
    "\n",
    "# loop over all training examples\n",
    "for i in range(trainingSet.shape[1]):\n",
    "    ri_t1 = np.zeros((reservoirNeurons, 1))\n",
    "    tmp1 = np.matmul(reservoirWeights, ri_t1) # shape=(500,1)\n",
    "    tmp2 = np.matmul(inputWeights, trainingSet[:,i]) # shape=(500,)\n",
    "    # shapes\n",
    "    #print(\"tmp1.shape: \", tmp1.shape) \n",
    "    #print(\"tmp2.shape: \", tmp2.shape)\n",
    "    tmp2 = np.reshape(tmp2, (reservoirNeurons, 1)) # shape=(500,1)\n",
    "    ri_t1 = np.tanh(tmp1 + tmp2) # shape=(500,1)\n",
    "    X[i,:] = ri_t1[:,0] # shape=(500,)"
   ]
  },
  {
   "cell_type": "code",
   "execution_count": 33,
   "metadata": {},
   "outputs": [],
   "source": [
    "# update the reservoir weights\n",
    "X = X[0:-1,:] # shape=(19899, 500)\n",
    "Y = trainingSet[:,1:]\n",
    "\n",
    "ridgeMatrix = k * np.eye(reservoirNeurons) # shape=(500,500)\n",
    "XTX = np.matmul(X.T, X) # shape=(500,500)\n",
    "XTX_inv = np.linalg.inv(XTX + ridgeMatrix) # shape=(500,500)\n",
    "XTY = np.matmul(X.T, Y.T) # shape=(500,3)\n",
    "outputWeights = np.matmul(XTX_inv, XTY) # shape=(500,3)\n",
    "outputWeights = outputWeights.T # shape=(3,500)"
   ]
  },
  {
   "cell_type": "code",
   "execution_count": 34,
   "metadata": {},
   "outputs": [
    {
     "name": "stdout",
     "output_type": "stream",
     "text": [
      "testX.shape:  (600, 500)\n",
      "outputX.shape:  (3, 600)\n"
     ]
    }
   ],
   "source": [
    "# Output testset\n",
    "newSize = testSet.shape[1] + tMax\n",
    "testX = np.zeros((newSize, reservoirNeurons)) # shape=(600,500)\n",
    "outputX = np.zeros((inputNeurons, newSize)) # shape=(3,600)\n",
    "print(\"testX.shape: \", testX.shape)\n",
    "print(\"outputX.shape: \", outputX.shape)\n",
    "\n",
    "# loop over all test examples\n",
    "for i in range(newSize):\n",
    "    ri_t1 = np.zeros((reservoirNeurons, 1))\n",
    "    if i < testSet.shape[1]:    \n",
    "        tmp1 = np.matmul(reservoirWeights, ri_t1) # shape=(500,1)\n",
    "        tmp2 = np.matmul(inputWeights, testSet[:,i]) # shape=(500,)\n",
    "        tmp2 = np.reshape(tmp2, (reservoirNeurons, 1)) # shape=(500,1)\n",
    "        ri_t1 = np.tanh(tmp1 + tmp2) # shape=(500,1)\n",
    "        testX[i,:] = ri_t1[:,0] # shape=(500,)\n",
    "\n",
    "        output = np.matmul(outputWeights, ri_t1) # shape=(3,1)\n",
    "        outputX[:,i] = output[:,0] # shape=(3,)\n",
    "    else:\n",
    "        tmp1 = np.matmul(reservoirWeights, ri_t1) # shape=(500,1)\n",
    "        tmp2 = np.matmul(inputWeights, output) # shape=(500,)\n",
    "        tmp2 = np.reshape(tmp2, (reservoirNeurons, 1)) # shape=(500,1)\n",
    "        ri_t1 = np.tanh(tmp1 + tmp2)\n",
    "        testX[i,:] = ri_t1[:,0]\n",
    "\n",
    "        output = np.matmul(outputWeights, ri_t1) # shape=(3,1)\n",
    "        outputX[:,i] = output[:,0]\n",
    "\n",
    "predictedOutput = outputX[:,100:]\n",
    "timePred = predictedOutput[1,:]\n",
    "prediction = np.reshape(timePred, (1, predictedOutput.shape[1]))\n",
    "\n",
    "\n"
   ]
  },
  {
   "cell_type": "code",
   "execution_count": 36,
   "metadata": {},
   "outputs": [],
   "source": [
    "np.savetxt(\"prediction_1.csv\", prediction, delimiter=\",\")"
   ]
  }
 ],
 "metadata": {
  "kernelspec": {
   "display_name": "Python 3 (ipykernel)",
   "language": "python",
   "name": "python3"
  },
  "language_info": {
   "codemirror_mode": {
    "name": "ipython",
    "version": 3
   },
   "file_extension": ".py",
   "mimetype": "text/x-python",
   "name": "python",
   "nbconvert_exporter": "python",
   "pygments_lexer": "ipython3",
   "version": "3.10.12"
  }
 },
 "nbformat": 4,
 "nbformat_minor": 2
}
