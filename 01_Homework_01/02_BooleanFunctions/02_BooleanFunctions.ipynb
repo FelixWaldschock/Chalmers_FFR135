{
 "cells": [
  {
   "cell_type": "code",
   "execution_count": 775,
   "id": "44f6b809",
   "metadata": {},
   "outputs": [],
   "source": [
    "import numpy as np\n",
    "import matplotlib.pyplot as plt"
   ]
  },
  {
   "cell_type": "markdown",
   "id": "ee78b9a2",
   "metadata": {},
   "source": [
    "# Generate boolean functions with the factorial n\n"
   ]
  },
  {
   "cell_type": "code",
   "execution_count": 776,
   "id": "d0974444",
   "metadata": {},
   "outputs": [],
   "source": [
    "def generateBool(n):\n",
    "    # generate the input matrix -> if n = 2, then the matrix is 4x2\n",
    "    x = np.zeros((2**n, n))\n",
    "    for i in range(2**n):\n",
    "        for j in range(n):\n",
    "            x[i, j] = int(i/(2**j))%2\n",
    "\n",
    "    # map the values from [0,1] to [-1,1]\n",
    "    x = 2*x - 1\n",
    "    return x"
   ]
  },
  {
   "cell_type": "code",
   "execution_count": 777,
   "id": "db9dd9d7",
   "metadata": {},
   "outputs": [],
   "source": [
    "# generating a random target function\n",
    "def generateTarget(n):\n",
    "    return np.random.choice([-1,1], 2**n)"
   ]
  },
  {
   "cell_type": "code",
   "execution_count": 778,
   "id": "4049105b",
   "metadata": {},
   "outputs": [],
   "source": [
    "# activation function\n",
    "def g(b):\n",
    "    return np.sign(b)"
   ]
  },
  {
   "cell_type": "code",
   "execution_count": 779,
   "id": "28292661",
   "metadata": {},
   "outputs": [],
   "source": [
    "def g(x):\n",
    "    return np.sign(x)\n",
    "    \n",
    "def deltaTheta(target, output, eta):\n",
    "    return eta  * np.sum(target - output)\n",
    "\n",
    "def deltaWeight(target, output, eta, x):\n",
    "    # print the shapes\n",
    "    \"\"\"print(\"target: \", target.T.shape)\n",
    "    print(\"output: \", output.shape)\n",
    "    print(\"x: \", x.shape)\"\"\"\n",
    "\n",
    "    deltaWeight = np.dot(x.T,(target - output))\n",
    "    deltaWeight = eta * deltaWeight\n",
    "    #print(\"deltaWeightShape:\", deltaWeight.shape)\n",
    "\n",
    "    return deltaWeight\n"
   ]
  },
  {
   "cell_type": "markdown",
   "id": "f218a1ee",
   "metadata": {},
   "source": [
    "## Main script"
   ]
  },
  {
   "cell_type": "code",
   "execution_count": 780,
   "id": "063cbd64",
   "metadata": {},
   "outputs": [
    {
     "name": "stdout",
     "output_type": "stream",
     "text": [
      "{2: 14, 3: 104, 4: 258, 5: 1}\n",
      "--- 3.368826150894165 seconds ---\n",
      "Number of duplicates: 0\n"
     ]
    }
   ],
   "source": [
    "\"https://oeis.org/search?q=A000609&language=english&go=Search\"\n",
    "\n",
    "# init timers for calculate computation time\n",
    "import time\n",
    "start_time = time.time()\n",
    "\n",
    "\n",
    "counts = {2: 0, 3: 0, 4: 0, 5: 0}\n",
    "EPOCHS = 20\n",
    "ITERATIONS = 10**4\n",
    "for n in [2, 3, 4, 5]:\n",
    "    # initialize the perceptron\n",
    "    weights = np.random.normal(0, 1/n, size=n)\n",
    "    Theta = 0\n",
    "    eta = 0.05\n",
    "\n",
    "    # create a set to store the bool functions we have seen\n",
    "    seenBoolFunctions = set()\n",
    "\n",
    "    for _ in range(ITERATIONS):\n",
    "        input = generateBool(n)\n",
    "        target = generateTarget(n)\n",
    "\n",
    "        # check if we have seen the bool function before\n",
    "        if (tuple(target) in seenBoolFunctions):\n",
    "            continue\n",
    "        # add the bool function to the seenBoolFunctions\n",
    "        seenBoolFunctions.add(tuple(target))\n",
    "\n",
    "        # train the perceptron for 20 epochs\n",
    "        for _ in range(EPOCHS):\n",
    "                # calculate the prediction\n",
    "                b = weights @ input.T - Theta\n",
    "                prediction = g(b)\n",
    "\n",
    "                # update the weights\n",
    "                weights += deltaWeight(target, prediction, eta, input)\n",
    "                # update the threshold\n",
    "                Theta -= deltaTheta(target, prediction, eta)\n",
    "\n",
    "        # check if prediction and target are same\n",
    "        if (np.array_equal(prediction, target)):\n",
    "            counts[n] += 1\n",
    "\n",
    "\n",
    "print(counts)\n",
    "computationalTime = time.time() - start_time\n",
    "print(\"--- %s seconds ---\" % (computationalTime))\n",
    "numberOfDuplicates = ITERATIONS-len(seenBoolFunctions)\n",
    "print(\"Number of duplicates:\", numberOfDuplicates)\n",
    "\n"
   ]
  },
  {
   "cell_type": "code",
   "execution_count": 781,
   "id": "a70b32c3",
   "metadata": {},
   "outputs": [],
   "source": [
    "# add the values of counts to the csv results.csv\n",
    "import csv\n",
    "with open('results.csv', 'a', newline='') as file:\n",
    "    writer = csv.writer(file)\n",
    "    writer.writerow([counts[2], counts[3], counts[4], counts[5], computationalTime, ITERATIONS, numberOfDuplicates])\n",
    "\n"
   ]
  },
  {
   "cell_type": "code",
   "execution_count": null,
   "id": "7bc6a82b",
   "metadata": {},
   "outputs": [],
   "source": []
  }
 ],
 "metadata": {
  "kernelspec": {
   "display_name": "Python 3 (ipykernel)",
   "language": "python",
   "name": "python3"
  },
  "language_info": {
   "codemirror_mode": {
    "name": "ipython",
    "version": 3
   },
   "file_extension": ".py",
   "mimetype": "text/x-python",
   "name": "python",
   "nbconvert_exporter": "python",
   "pygments_lexer": "ipython3",
   "version": "3.10.12"
  }
 },
 "nbformat": 4,
 "nbformat_minor": 5
}
